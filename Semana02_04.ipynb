{
  "nbformat": 4,
  "nbformat_minor": 0,
  "metadata": {
    "colab": {
      "provenance": []
    },
    "kernelspec": {
      "name": "python3",
      "display_name": "Python 3"
    },
    "language_info": {
      "name": "python"
    }
  },
  "cells": [
    {
      "cell_type": "markdown",
      "source": [
        "4. Ingreso de datos por teclado\n"
      ],
      "metadata": {
        "id": "a7QyHjRs8wqM"
      }
    },
    {
      "cell_type": "code",
      "execution_count": null,
      "metadata": {
        "colab": {
          "base_uri": "https://localhost:8080/"
        },
        "id": "045yP3z58kZ1",
        "outputId": "e6c08dba-d611-4e2b-e74f-c0c044f16cfe"
      },
      "outputs": [
        {
          "output_type": "stream",
          "name": "stdout",
          "text": [
            "¿Cual es tu nombre?\n",
            "facundo\n",
            "hola facundo\n"
          ]
        }
      ],
      "source": [
        "#funcion input()\n",
        "print(\"¿Cual es tu nombre?\")\n",
        "nombre = input()\n",
        "print(\"hola \" + nombre)"
      ]
    },
    {
      "cell_type": "code",
      "source": [
        "# cuando ingresa un valor por teclado lo hace como cadena\n",
        "print(\"numero 1: \")\n",
        "numero1 = input()\n",
        "print(\"numero 2: \")\n",
        "numero2 = input()\n",
        "numero3 = int(numero1) + int(numero2)\n",
        "print(f\"El resultado es {numero3}\")"
      ],
      "metadata": {
        "colab": {
          "base_uri": "https://localhost:8080/"
        },
        "id": "1Pm9P8y195ps",
        "outputId": "c7d66907-c7fe-4353-a1dd-42f8116e20da"
      },
      "execution_count": null,
      "outputs": [
        {
          "output_type": "stream",
          "name": "stdout",
          "text": [
            "numero 1: \n",
            "1\n",
            "numero 2: \n",
            "2\n",
            "El resultado es 3\n"
          ]
        }
      ]
    },
    {
      "cell_type": "code",
      "source": [],
      "metadata": {
        "id": "yUMWw63v-mTb"
      },
      "execution_count": null,
      "outputs": []
    }
  ]
}