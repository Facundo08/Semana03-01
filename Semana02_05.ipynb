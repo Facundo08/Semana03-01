{
  "nbformat": 4,
  "nbformat_minor": 0,
  "metadata": {
    "colab": {
      "provenance": []
    },
    "kernelspec": {
      "name": "python3",
      "display_name": "Python 3"
    },
    "language_info": {
      "name": "python"
    }
  },
  "cells": [
    {
      "cell_type": "markdown",
      "source": [
        "5. Operadores"
      ],
      "metadata": {
        "id": "GVGWD9jd_M1D"
      }
    },
    {
      "cell_type": "code",
      "execution_count": null,
      "metadata": {
        "id": "j0SIU95-_Gbt"
      },
      "outputs": [],
      "source": [
        "#Operadores aritmeticos\n"
      ]
    },
    {
      "cell_type": "code",
      "source": [
        "numero1 = 10\n",
        "numero2 = 3\n",
        "suma = numero1 + numero2\n",
        "resta = numero1 - numero2\n",
        "multiplicacion = numero1 * numero2\n",
        "division = numero1 / numero2\n",
        "residuo = numero1 % numero2\n",
        "cociente = numero1 // numero2\n",
        "print(suma)\n",
        "print(resta)\n"
      ],
      "metadata": {
        "id": "9jwpghgnACQM"
      },
      "execution_count": null,
      "outputs": []
    },
    {
      "cell_type": "markdown",
      "source": [
        "Operadoes asignbacion"
      ],
      "metadata": {
        "id": "KX-xZZY8Csjk"
      }
    },
    {
      "cell_type": "code",
      "source": [
        "numero = 5\n",
        "numero = numero + 3\n",
        "print(numero)"
      ],
      "metadata": {
        "id": "7IFr7NidCwUL"
      },
      "execution_count": null,
      "outputs": []
    },
    {
      "cell_type": "code",
      "source": [
        "#la operacion anterior tambien se puede expresar de la siguiente manera\n",
        "numero = 5\n",
        "numero += 3\n",
        "print(numero)"
      ],
      "metadata": {
        "id": "PanyC15PC4lT"
      },
      "execution_count": null,
      "outputs": []
    },
    {
      "cell_type": "code",
      "source": [
        "#Lo mismo se puede hacer con todos los casos, incluso la potencia\n",
        "numero = 5\n",
        "numero = numero ** 3\n",
        "print(numero)"
      ],
      "metadata": {
        "id": "EPwzs6jRDFDj"
      },
      "execution_count": null,
      "outputs": []
    },
    {
      "cell_type": "code",
      "source": [
        "#La operacion anterior tambien se puede expresar de la siguiente manera"
      ],
      "metadata": {
        "id": "zi65MjUfDVM8"
      },
      "execution_count": null,
      "outputs": []
    },
    {
      "cell_type": "markdown",
      "source": [
        "operadores de comparacion"
      ],
      "metadata": {
        "id": "p9CxzWdYDaX8"
      }
    },
    {
      "cell_type": "code",
      "source": [
        "#Ejemplo de igualdad ==\n",
        "numero1 = 5\n",
        "numero2 = 2\n",
        "numero1 == numero2"
      ],
      "metadata": {
        "id": "amlCScd-Dcgc"
      },
      "execution_count": null,
      "outputs": []
    },
    {
      "cell_type": "code",
      "source": [
        "#Con las caddenas funciona igual\n",
        "nombre1 = \"Juan\"\n",
        "nombre2 = \"Juan\"\n",
        "nombre1 = nombre2"
      ],
      "metadata": {
        "id": "TUnTJTcPDu_k"
      },
      "execution_count": null,
      "outputs": []
    },
    {
      "cell_type": "markdown",
      "source": [
        "Operadores logicos"
      ],
      "metadata": {
        "id": "j9My9TG-EFLT"
      }
    },
    {
      "cell_type": "code",
      "source": [
        "numero1 = 5\n",
        "numero2 = 6\n",
        "numero3 = 7\n",
        "numero4 = 8\n",
        "\n",
        "numero1 < numero2\n",
        "not(numero1 < numero2)"
      ],
      "metadata": {
        "id": "_Oj7_FCIEDUs"
      },
      "execution_count": null,
      "outputs": []
    },
    {
      "cell_type": "code",
      "source": [
        "numero1<numero2 and numero3<numero4"
      ],
      "metadata": {
        "id": "khNkkPMIE4F7"
      },
      "execution_count": null,
      "outputs": []
    },
    {
      "cell_type": "markdown",
      "source": [
        "Operadores de pertenencia"
      ],
      "metadata": {
        "id": "FBu2ytohFA2T"
      }
    },
    {
      "cell_type": "code",
      "source": [
        "#Miremos un ejemplo\n",
        "aula = [\"Juan\",\"Ddaniel\",\"Ruben\"]\n",
        "alumno1 = \"Diego\"\n",
        "alumno2 = \"Juan\""
      ],
      "metadata": {
        "id": "7kP69N-XFAAT"
      },
      "execution_count": 1,
      "outputs": []
    },
    {
      "cell_type": "code",
      "source": [
        "#¿Diego esta en aula?\n",
        "alumno1 in  aula"
      ],
      "metadata": {
        "colab": {
          "base_uri": "https://localhost:8080/"
        },
        "id": "FeI9Auh8FZks",
        "outputId": "13a8aaeb-e170-447c-9add-fb568edec15b"
      },
      "execution_count": 2,
      "outputs": [
        {
          "output_type": "execute_result",
          "data": {
            "text/plain": [
              "False"
            ]
          },
          "metadata": {},
          "execution_count": 2
        }
      ]
    },
    {
      "cell_type": "code",
      "source": [],
      "metadata": {
        "id": "X-f9klSDHGvk"
      },
      "execution_count": null,
      "outputs": []
    },
    {
      "cell_type": "code",
      "source": [
        "#¿Diego no esta en aula?\n",
        "alumno1 not in  aula"
      ],
      "metadata": {
        "id": "qOVpljEMFqQk"
      },
      "execution_count": null,
      "outputs": []
    },
    {
      "cell_type": "code",
      "source": [
        "aula1 = [\"Juan\",\"Ddaniel\",\"Ruben\"]\n",
        "aula2 = [\"Juan\",\"Ddaniel\",\"Ruben\"]\n"
      ],
      "metadata": {
        "id": "u5zdUegoG620"
      },
      "execution_count": null,
      "outputs": []
    }
  ]
}