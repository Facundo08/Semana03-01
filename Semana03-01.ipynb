{
 "cells": [
  {
   "cell_type": "markdown",
   "id": "5cbd962d",
   "metadata": {},
   "source": [
    "# Semana 03\n",
    "Facundo Rafael Moreno Menacho"
   ]
  },
  {
   "cell_type": "raw",
   "id": "a319b40d",
   "metadata": {},
   "source": [
    "# Temas:\n",
    "    1. Números\n",
    "    2. Variables\n",
    "    3. Manejo de cadenas\n",
    "    4. Ingreso por el teclado\n",
    "    5. Operaciones"
   ]
  },
  {
   "cell_type": "raw",
   "id": "d125c07d",
   "metadata": {},
   "source": [
    " 1. Números"
   ]
  },
  {
   "cell_type": "code",
   "execution_count": 4,
   "id": "ff3f029d",
   "metadata": {},
   "outputs": [
    {
     "data": {
      "text/plain": [
       "14"
      ]
     },
     "execution_count": 4,
     "metadata": {},
     "output_type": "execute_result"
    }
   ],
   "source": [
    "8+6"
   ]
  },
  {
   "cell_type": "code",
   "execution_count": 5,
   "id": "a9229f28",
   "metadata": {},
   "outputs": [
    {
     "data": {
      "text/plain": [
       "1.1111111111111112"
      ]
     },
     "execution_count": 5,
     "metadata": {},
     "output_type": "execute_result"
    }
   ],
   "source": [
    "10/9"
   ]
  },
  {
   "cell_type": "code",
   "execution_count": 6,
   "id": "725228e0",
   "metadata": {},
   "outputs": [
    {
     "data": {
      "text/plain": [
       "42"
      ]
     },
     "execution_count": 6,
     "metadata": {},
     "output_type": "execute_result"
    }
   ],
   "source": [
    "7*6"
   ]
  },
  {
   "cell_type": "code",
   "execution_count": null,
   "id": "03d1f605",
   "metadata": {},
   "outputs": [],
   "source": []
  }
 ],
 "metadata": {
  "kernelspec": {
   "display_name": "Python 3 (ipykernel)",
   "language": "python",
   "name": "python3"
  },
  "language_info": {
   "codemirror_mode": {
    "name": "ipython",
    "version": 3
   },
   "file_extension": ".py",
   "mimetype": "text/x-python",
   "name": "python",
   "nbconvert_exporter": "python",
   "pygments_lexer": "ipython3",
   "version": "3.9.12"
  }
 },
 "nbformat": 4,
 "nbformat_minor": 5
}
