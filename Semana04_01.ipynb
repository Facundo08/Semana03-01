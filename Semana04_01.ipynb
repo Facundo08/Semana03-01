{
  "nbformat": 4,
  "nbformat_minor": 0,
  "metadata": {
    "colab": {
      "provenance": []
    },
    "kernelspec": {
      "name": "python3",
      "display_name": "Python 3"
    },
    "language_info": {
      "name": "python"
    }
  },
  "cells": [
    {
      "cell_type": "code",
      "execution_count": 9,
      "metadata": {
        "colab": {
          "base_uri": "https://localhost:8080/"
        },
        "id": "NloSK95tM2IF",
        "outputId": "b96a04e3-6778-46b3-e6a9-2967fd2567f9"
      },
      "outputs": [
        {
          "output_type": "stream",
          "name": "stdout",
          "text": [
            "figueroa\n",
            "garcia\n"
          ]
        },
        {
          "output_type": "execute_result",
          "data": {
            "text/plain": [
              "4"
            ]
          },
          "metadata": {},
          "execution_count": 9
        }
      ],
      "source": [
        "aula = ['figueroa','garcia', 'gutierrez','Isla']\n",
        "\n",
        "aula\n",
        "\n",
        "print(aula[0])\n",
        "print(aula[1])\n",
        "\n",
        "\n",
        "aula[1] = 'Lopez'\n",
        "aula[1]\n",
        "\n",
        "aula\n",
        "\n",
        "aula.append(\"Luque\")\n",
        "aula.append(\"Mamani\")\n",
        "\n",
        "\n",
        "aula.remove(\"figueroa\")\n",
        "\n",
        "aula.remove(\"Mamani\")\n",
        "\n",
        "aula\n",
        "\n",
        "len(aula)"
      ]
    },
    {
      "cell_type": "code",
      "source": [
        "for alumno in aula:\n",
        "  print(alumno)"
      ],
      "metadata": {
        "colab": {
          "base_uri": "https://localhost:8080/"
        },
        "id": "DAwk8_WCOCVE",
        "outputId": "e1d7ea9d-5efd-45b7-fb73-a0e1852ed4e3"
      },
      "execution_count": 10,
      "outputs": [
        {
          "output_type": "stream",
          "name": "stdout",
          "text": [
            "Lopez\n",
            "gutierrez\n",
            "Isla\n",
            "Luque\n"
          ]
        }
      ]
    },
    {
      "cell_type": "code",
      "source": [
        "aula.reverse()\n",
        "aula"
      ],
      "metadata": {
        "colab": {
          "base_uri": "https://localhost:8080/"
        },
        "id": "KC1N32vFOMyV",
        "outputId": "20063bcf-dcf7-4a1c-f5dc-ad4a858a5bb3"
      },
      "execution_count": 11,
      "outputs": [
        {
          "output_type": "execute_result",
          "data": {
            "text/plain": [
              "['Luque', 'Isla', 'gutierrez', 'Lopez']"
            ]
          },
          "metadata": {},
          "execution_count": 11
        }
      ]
    },
    {
      "cell_type": "code",
      "source": [
        "aula.sort()\n",
        "aula"
      ],
      "metadata": {
        "colab": {
          "base_uri": "https://localhost:8080/"
        },
        "id": "WcugdOqnOsmM",
        "outputId": "6693d32a-6671-49cd-908e-e2f17b3495b5"
      },
      "execution_count": 12,
      "outputs": [
        {
          "output_type": "execute_result",
          "data": {
            "text/plain": [
              "['Isla', 'Lopez', 'Luque', 'gutierrez']"
            ]
          },
          "metadata": {},
          "execution_count": 12
        }
      ]
    }
  ]
}